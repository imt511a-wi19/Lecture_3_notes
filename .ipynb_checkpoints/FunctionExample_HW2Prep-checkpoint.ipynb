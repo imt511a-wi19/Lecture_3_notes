{
 "cells": [
  {
   "cell_type": "markdown",
   "metadata": {},
   "source": [
    "### Jurassic Park Function Example\n",
    "Pay attention to the global variable"
   ]
  },
  {
   "cell_type": "code",
   "execution_count": 6,
   "metadata": {},
   "outputs": [
    {
     "name": "stdout",
     "output_type": "stream",
     "text": [
      "dr. ian malcolm\n"
     ]
    }
   ],
   "source": [
    "name = \"dr. ian malcolm\"  # global variable 'name'\n",
    "print(name)"
   ]
  },
  {
   "cell_type": "code",
   "execution_count": 7,
   "metadata": {},
   "outputs": [],
   "source": [
    "def say_hello(name):  # local variable 'name'\n",
    "    name_title = name.title()  # using local variable ##title() uppercases first letter in a word\n",
    "    print(\"Hi \"+ name_title + \". Welcome to Jurassic Park\")"
   ]
  },
  {
   "cell_type": "code",
   "execution_count": 10,
   "metadata": {},
   "outputs": [
    {
     "name": "stdout",
     "output_type": "stream",
     "text": [
      "Hi Dr. Alan Grant. Welcome to Jurassic Park\n"
     ]
    }
   ],
   "source": [
    "say_hello(\"dr. alan grant\")  # arg assigned to local var"
   ]
  },
  {
   "cell_type": "code",
   "execution_count": 12,
   "metadata": {},
   "outputs": [
    {
     "name": "stdout",
     "output_type": "stream",
     "text": [
      "dr. ian malcolm\n"
     ]
    }
   ],
   "source": [
    "print(name)  # using global variable"
   ]
  },
  {
   "cell_type": "code",
   "execution_count": 18,
   "metadata": {},
   "outputs": [
    {
     "name": "stdout",
     "output_type": "stream",
     "text": [
      "The rich creator of Jurassic Park is... John Hammond\n"
     ]
    }
   ],
   "source": [
    "def make_full_name(first_name, last_name):\n",
    "    full_name = first_name + \" \" + last_name\n",
    "    return full_name\n",
    "\n",
    "character_full_name = make_full_name(\"John\", \"Hammond\")\n",
    "\n",
    "print(\"The rich creator of Jurassic Park is... \" + character_full_name)"
   ]
  },
  {
   "cell_type": "markdown",
   "metadata": {},
   "source": [
    "## Boolean Examples\n",
    "Below are only a few examples of how cool Booles can be!\n",
    "\n",
    "But this is only an intro: for much more, read about deMorgan's Law: \n",
    "https://www.ics.uci.edu/~pattis/ICS-31/lectures/simplify/lecture.html "
   ]
  },
  {
   "cell_type": "code",
   "execution_count": 21,
   "metadata": {},
   "outputs": [
    {
     "data": {
      "text/plain": [
       "False"
      ]
     },
     "execution_count": 21,
     "metadata": {},
     "output_type": "execute_result"
    }
   ],
   "source": [
    "##String comparisons\n",
    "\n",
    "\"cat\" > \"dog\" # False\n",
    "# \"kitty\" > \"dog\" #True... what do you think is going on here? \n",
    "# \"cat\" > \"doggy\" #False\n",
    "# \"cat\" < \"doggy\" #True\n",
    "# \"kitty\" == \"doggy\" #False"
   ]
  },
  {
   "cell_type": "code",
   "execution_count": 22,
   "metadata": {},
   "outputs": [
    {
     "name": "stdout",
     "output_type": "stream",
     "text": [
      "<class 'bool'>\n"
     ]
    },
    {
     "data": {
      "text/plain": [
       "True"
      ]
     },
     "execution_count": 22,
     "metadata": {},
     "output_type": "execute_result"
    }
   ],
   "source": [
    "# given two booleans P and Q\n",
    "P = True\n",
    "Q = False\n",
    "print(type(P)) #<class 'bool'>\n",
    "\n",
    "P and not Q  # True\n",
    "# not P and Q  # False\n",
    "# not (P and Q)  # True: Evaluate parens first...\n",
    "# (not P) or (not Q)  # True"
   ]
  },
  {
   "cell_type": "code",
   "execution_count": 33,
   "metadata": {},
   "outputs": [
    {
     "data": {
      "text/plain": [
       "'lizard'"
      ]
     },
     "execution_count": 33,
     "metadata": {},
     "output_type": "execute_result"
    }
   ],
   "source": [
    "# Assign str value to a variable\n",
    "pet = \"dog\"\n",
    "\n",
    "# It is NOT the case that pet is \"cat\"\n",
    "not pet == \"cat\"  # True\n",
    "\n",
    "# pet is \"cat\" OR \"dog\"\n",
    "pet == \"cat\" or pet == \"dog\"  # True\n",
    "\n",
    "# This doesn't work (operators are applied left-to-right; \n",
    "# check the type at each step!)\n",
    "pet == \"cat\" or \"lizard\"  # \"lizard\""
   ]
  },
  {
   "cell_type": "markdown",
   "metadata": {},
   "source": [
    "### HW 2 Prep Notes\n",
    "HW 2 requires you to: \n",
    "* create your own functions\n",
    "* import modules and use unknown functions\n",
    "\n",
    "Here are a few notes on those"
   ]
  },
  {
   "cell_type": "code",
   "execution_count": 1,
   "metadata": {},
   "outputs": [],
   "source": [
    "import datetime"
   ]
  },
  {
   "cell_type": "code",
   "execution_count": 2,
   "metadata": {},
   "outputs": [],
   "source": [
    "today = datetime.date.today()"
   ]
  },
  {
   "cell_type": "code",
   "execution_count": 3,
   "metadata": {},
   "outputs": [
    {
     "name": "stdout",
     "output_type": "stream",
     "text": [
      "2019-01-21\n"
     ]
    }
   ],
   "source": [
    "print(today)"
   ]
  },
  {
   "cell_type": "code",
   "execution_count": 6,
   "metadata": {},
   "outputs": [
    {
     "ename": "TypeError",
     "evalue": "unsupported operand type(s) for +: 'datetime.date' and 'int'",
     "output_type": "error",
     "traceback": [
      "\u001b[1;31m---------------------------------------------------------------------------\u001b[0m",
      "\u001b[1;31mTypeError\u001b[0m                                 Traceback (most recent call last)",
      "\u001b[1;32m<ipython-input-6-013b25c6e411>\u001b[0m in \u001b[0;36m<module>\u001b[1;34m()\u001b[0m\n\u001b[0;32m      1\u001b[0m \u001b[1;31m##Goal: what's tomorrow's date?\u001b[0m\u001b[1;33m\u001b[0m\u001b[1;33m\u001b[0m\u001b[0m\n\u001b[0;32m      2\u001b[0m \u001b[1;31m#Unfortunately, dates don't work like ints\u001b[0m\u001b[1;33m\u001b[0m\u001b[1;33m\u001b[0m\u001b[0m\n\u001b[1;32m----> 3\u001b[1;33m \u001b[0mtoday\u001b[0m \u001b[1;33m+\u001b[0m \u001b[1;36m1\u001b[0m\u001b[1;33m\u001b[0m\u001b[0m\n\u001b[0m",
      "\u001b[1;31mTypeError\u001b[0m: unsupported operand type(s) for +: 'datetime.date' and 'int'"
     ]
    }
   ],
   "source": [
    "##Goal: what's tomorrow's date? \n",
    "#Unfortunately, dates don't work like ints\n",
    "today + 1"
   ]
  },
  {
   "cell_type": "code",
   "execution_count": 7,
   "metadata": {},
   "outputs": [],
   "source": [
    "#You can generate dates using datetime's built in functions\n",
    "pres_day_holiday = datetime.date(2019, 2, 18)"
   ]
  },
  {
   "cell_type": "code",
   "execution_count": 8,
   "metadata": {},
   "outputs": [
    {
     "name": "stdout",
     "output_type": "stream",
     "text": [
      "2019-02-18\n"
     ]
    }
   ],
   "source": [
    "print(pres_day_holiday)"
   ]
  },
  {
   "cell_type": "code",
   "execution_count": 9,
   "metadata": {},
   "outputs": [],
   "source": [
    "#NOW, you can manipulate and work with dates\n",
    "days_to_next_break = pres_day_holiday-today"
   ]
  },
  {
   "cell_type": "code",
   "execution_count": 13,
   "metadata": {},
   "outputs": [
    {
     "ename": "TypeError",
     "evalue": "can only concatenate str (not \"datetime.timedelta\") to str",
     "output_type": "error",
     "traceback": [
      "\u001b[1;31m---------------------------------------------------------------------------\u001b[0m",
      "\u001b[1;31mTypeError\u001b[0m                                 Traceback (most recent call last)",
      "\u001b[1;32m<ipython-input-13-dbe4f9ea0006>\u001b[0m in \u001b[0;36m<module>\u001b[1;34m()\u001b[0m\n\u001b[0;32m      1\u001b[0m \u001b[1;31m#Try debugging this yourself!\u001b[0m\u001b[1;33m\u001b[0m\u001b[1;33m\u001b[0m\u001b[0m\n\u001b[1;32m----> 2\u001b[1;33m \u001b[0mprint\u001b[0m\u001b[1;33m(\u001b[0m\u001b[1;34m\"It's only \"\u001b[0m \u001b[1;33m+\u001b[0m \u001b[0mdays_to_next_break\u001b[0m \u001b[1;33m+\u001b[0m \u001b[1;34m\" to the next break!\"\u001b[0m\u001b[1;33m)\u001b[0m\u001b[1;33m\u001b[0m\u001b[0m\n\u001b[0m",
      "\u001b[1;31mTypeError\u001b[0m: can only concatenate str (not \"datetime.timedelta\") to str"
     ]
    }
   ],
   "source": [
    "#Try debugging this yourself!\n",
    "print(\"It's only \" + days_to_next_break + \" to the next break!\")"
   ]
  },
  {
   "cell_type": "code",
   "execution_count": 14,
   "metadata": {},
   "outputs": [],
   "source": [
    "# The dateUtil Library is a really important module for HW2\n",
    "# You'll use the relativedelta() function to manipulate dates and the diffs between dates!\n",
    "from dateutil.relativedelta import *\n"
   ]
  },
  {
   "cell_type": "code",
   "execution_count": 15,
   "metadata": {},
   "outputs": [],
   "source": [
    "#here's a simple illustration of how it works\n",
    "#in your HW, you'll do slightly more challenging, but much more interesting things with it\n",
    "arbitrary_number_of_days = 10000\n",
    "days_from_now = today + relativedelta(days=+arbitrary_number_of_days)"
   ]
  },
  {
   "cell_type": "code",
   "execution_count": 16,
   "metadata": {},
   "outputs": [
    {
     "name": "stdout",
     "output_type": "stream",
     "text": [
      "today's date is 2019-01-21, in 10000 days from now it will be 2046-06-08\n"
     ]
    }
   ],
   "source": [
    "print(\"today's date is \" + str(today) + \", in \" + str(arbitrary_number_of_days)\n",
    "      +\" days from now it will be \" + str(days_from_now))\n",
    "\n",
    "##Note: you can break long lines by just adding a new line and indenting"
   ]
  }
 ],
 "metadata": {
  "kernelspec": {
   "display_name": "Python 3",
   "language": "python",
   "name": "python3"
  },
  "language_info": {
   "codemirror_mode": {
    "name": "ipython",
    "version": 3
   },
   "file_extension": ".py",
   "mimetype": "text/x-python",
   "name": "python",
   "nbconvert_exporter": "python",
   "pygments_lexer": "ipython3",
   "version": "3.7.0"
  }
 },
 "nbformat": 4,
 "nbformat_minor": 2
}
